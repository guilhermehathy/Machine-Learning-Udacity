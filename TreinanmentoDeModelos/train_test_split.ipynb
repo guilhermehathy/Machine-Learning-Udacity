{
 "cells": [
  {
   "cell_type": "markdown",
   "metadata": {},
   "source": [
    "Dividir um conjunto de dados em dados de treinamento e teste é muito fácil com o sklearn. Tudo que precisamos fazer é usar o comando train_test_split. A função recebe como entradas X e y, retornando quatro coisas:\n",
    "\n",
    "* X_train: a entrada de treinamento\n",
    "* X_test: a entrada de teste\n",
    "* y_train: os labels de treinamento\n",
    "* y_test: os labels de teste"
   ]
  },
  {
   "cell_type": "code",
   "execution_count": 5,
   "metadata": {},
   "outputs": [],
   "source": [
    "import pandas\n",
    "import numpy\n",
    "\n",
    "# Read the data\n",
    "data = pandas.read_csv('2_class_data.csv')\n",
    "\n",
    "# Split the data into X and y\n",
    "X = numpy.array(data[['x1', 'x2']])\n",
    "y = numpy.array(data['y'])\n",
    "\n",
    "# Import statement for train_test_split\n",
    "from sklearn.cross_validation import train_test_split\n",
    "\n",
    "X_train, X_test, y_train, y_test = train_test_split(X, y, test_size = 0.20)"
   ]
  }
 ],
 "metadata": {
  "kernelspec": {
   "display_name": "Python 3",
   "language": "python",
   "name": "python3"
  },
  "language_info": {
   "codemirror_mode": {
    "name": "ipython",
    "version": 3
   },
   "file_extension": ".py",
   "mimetype": "text/x-python",
   "name": "python",
   "nbconvert_exporter": "python",
   "pygments_lexer": "ipython3",
   "version": "3.6.3"
  }
 },
 "nbformat": 4,
 "nbformat_minor": 2
}
