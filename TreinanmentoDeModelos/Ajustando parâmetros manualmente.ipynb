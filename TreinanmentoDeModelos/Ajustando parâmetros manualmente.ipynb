{
 "cells": [
  {
   "cell_type": "markdown",
   "metadata": {},
   "source": [
    "# Ajustando parâmetros manualmente"
   ]
  },
  {
   "cell_type": "code",
   "execution_count": null,
   "metadata": {},
   "outputs": [],
   "source": [
    "import pandas\n",
    "import numpy\n",
    "\n",
    "# Read the data\n",
    "data = pandas.read_csv('2_class_data.csv')"
   ]
  },
  {
   "cell_type": "markdown",
   "metadata": {},
   "source": [
    "Vamos tentar brincar com alguns desses parâmetros nós mesmos. Vamos aprender mais sobre eles depois, mas aqui vão alguns valores para você testar (esses são parâmetros sobre os quais vamos aprender depois. Por enquanto, podemos usá-los como caixas pretas):\n",
    "\n",
    "kernel: linear, poly, rbf.\n",
    "degree (inteiro): este é o grau do Kernel polinomial, caso você tenha escolhido essa opção.\n",
    "gamma (inteiro): o parâmetro gamma.\n",
    "C (inteiro): o parâmetro C."
   ]
  },
  {
   "cell_type": "code",
   "execution_count": 5,
   "metadata": {},
   "outputs": [
    {
     "data": {
      "text/plain": [
       "SVC(C=1, cache_size=200, class_weight=None, coef0=0.0,\n",
       "  decision_function_shape='ovr', degree=3, gamma=1, kernel='poly',\n",
       "  max_iter=-1, probability=False, random_state=None, shrinking=True,\n",
       "  tol=0.001, verbose=False)"
      ]
     },
     "execution_count": 5,
     "metadata": {},
     "output_type": "execute_result"
    }
   ],
   "source": [
    "# Split the data into X and y\n",
    "X = numpy.array(data[['x1', 'x2']])\n",
    "y = numpy.array(data['y'])\n",
    "\n",
    "# Import the SVM Classifier\n",
    "from sklearn.svm import SVC\n",
    "\n",
    "# TODO: Define your classifier.\n",
    "# Play with different values for these, from the options above.\n",
    "# Hit 'Test Run' to see how the classifier fit your data.\n",
    "# Once you can correctly classify all the points, hit 'Submit'.\n",
    "classifier = SVC(kernel = 'poly', degree = 3, gamma = 1, C = 1)\n",
    "\n",
    "# Fit the classifier\n",
    "classifier.fit(X,y)"
   ]
  }
 ],
 "metadata": {
  "kernelspec": {
   "display_name": "Python 3",
   "language": "python",
   "name": "python3"
  },
  "language_info": {
   "codemirror_mode": {
    "name": "ipython",
    "version": 3
   },
   "file_extension": ".py",
   "mimetype": "text/x-python",
   "name": "python",
   "nbconvert_exporter": "python",
   "pygments_lexer": "ipython3",
   "version": "3.6.3"
  }
 },
 "nbformat": 4,
 "nbformat_minor": 2
}
